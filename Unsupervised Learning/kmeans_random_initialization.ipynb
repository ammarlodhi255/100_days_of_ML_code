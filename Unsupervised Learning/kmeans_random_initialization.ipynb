{
 "cells": [
  {
   "cell_type": "code",
   "execution_count": 4,
   "metadata": {},
   "outputs": [],
   "source": [
    "import numpy as np \n",
    "import matplotlib.pyplot as plt "
   ]
  },
  {
   "cell_type": "code",
   "execution_count": 9,
   "metadata": {},
   "outputs": [],
   "source": [
    "# Just some helper methods\n",
    "\n",
    "def load_data(num_samples_per_cluster=50):\n",
    "    num_samples_per_cluster = num_samples_per_cluster\n",
    "    mean_cluster1 = [2, 2]\n",
    "    cov_cluster1 = [[1, 0.5], [0.5, 1]] \n",
    "    cluster1_samples = np.random.multivariate_normal(mean_cluster1, cov_cluster1, num_samples_per_cluster)\n",
    "    mean_cluster2 = [-2, -2]\n",
    "    cov_cluster2 = [[1, -0.5], [-0.5, 1]] \n",
    "    cluster2_samples = np.random.multivariate_normal(mean_cluster2, cov_cluster2, num_samples_per_cluster)\n",
    "    X = np.vstack([cluster1_samples, cluster2_samples])\n",
    "    np.random.shuffle(X)\n",
    "    return X\n",
    "\n",
    "def draw_line(p1, p2, style=\"-k\", linewidth=1):\n",
    "    plt.plot([p1[0], p2[0]], [p1[1], p2[1]], style, linewidth=linewidth)\n",
    "\n",
    "def plot_data_points(X, idx):\n",
    "    # plots data points in X, coloring them so that those with the same\n",
    "    # index assignments in idx have the same color\n",
    "    plt.scatter(X[:, 0], X[:, 1], c=idx)\n",
    "    \n",
    "def plot_progress_kMeans(X, centroids, previous_centroids, idx, K, i):\n",
    "    # Plot the examples\n",
    "    plot_data_points(X, idx)\n",
    "    \n",
    "    # Plot the centroids as black 'x's\n",
    "    plt.scatter(centroids[:, 0], centroids[:, 1], marker='x', c='k', linewidths=3)\n",
    "    \n",
    "    # Plot history of the centroids with lines\n",
    "    for j in range(centroids.shape[0]):\n",
    "        draw_line(centroids[j, :], previous_centroids[j, :])\n",
    "    \n",
    "    plt.title(\"Iteration number %d\" %i)"
   ]
  },
  {
   "cell_type": "code",
   "execution_count": 10,
   "metadata": {},
   "outputs": [
    {
     "name": "stdout",
     "output_type": "stream",
     "text": [
      "X.shape =  (200, 2)\n"
     ]
    }
   ],
   "source": [
    "X = load_data(100)\n",
    "print(\"X.shape = \", X.shape)"
   ]
  },
  {
   "cell_type": "code",
   "execution_count": 11,
   "metadata": {},
   "outputs": [],
   "source": [
    "def find_closest_centroids(X, centroids):\n",
    "    '''\n",
    "    Finds the closest centroid for each example in X.\n",
    "    Args:\n",
    "        X: ndarray of shape (m,n) consisting of example points.\n",
    "        centroids: ndarray of shape (k, n) consisting of k centroids.\n",
    "\n",
    "    Returns:\n",
    "        idx: ndarray of shape (k,) containing indices for the centroids in the range (0 - k-1) that is closest to each example point.\n",
    "    '''\n",
    "\n",
    "    idx = np.zeros((X.shape[0],))\n",
    "\n",
    "    for i in range(X.shape[0]):\n",
    "        distances = []\n",
    "        for j in range(centroids.shape[0]):\n",
    "            distance = np.linalg.norm(X[i], centroids[j])\n",
    "            distances.append(distance)\n",
    "        \n",
    "        idx[i] = np.argmin(distances)\n",
    "\n",
    "    return idx "
   ]
  },
  {
   "cell_type": "code",
   "execution_count": null,
   "metadata": {},
   "outputs": [],
   "source": [
    "def compute_centroids(X, idx, centroids):\n",
    "    '''\n",
    "    Computes the mean of the samples belonging to each centroid and re-adjusts each centroid.\n",
    "    Args:\n",
    "        X: ndarray of shape (m,n) consisting of example points.\n",
    "        centroids: ndarray of shape (k, n) consisting of k centroids.\n",
    "        idx: ndarray of shape (k,) containing indices for the centroids in the range (0 - k-1) that is closest to each example point.\n",
    "\n",
    "    Returns:\n",
    "        new_centroids: ndarray of shape (k, n) consisting of new k centroids.\n",
    "\n",
    "    '''\n",
    "    new_centroids = np.zeros(centroids.shape)\n",
    "\n",
    "    for j in range(centroids.shape[0]):\n",
    "        belonging_samples = X[idx == j]\n",
    "        mean = np.mean(belonging_samples)\n",
    "        new_centroids[j] = mean \n",
    "\n",
    "    return new_centroids\n",
    "    "
   ]
  }
 ],
 "metadata": {
  "kernelspec": {
   "display_name": "dev-env",
   "language": "python",
   "name": "python3"
  },
  "language_info": {
   "codemirror_mode": {
    "name": "ipython",
    "version": 3
   },
   "file_extension": ".py",
   "mimetype": "text/x-python",
   "name": "python",
   "nbconvert_exporter": "python",
   "pygments_lexer": "ipython3",
   "version": "3.11.7"
  }
 },
 "nbformat": 4,
 "nbformat_minor": 2
}
