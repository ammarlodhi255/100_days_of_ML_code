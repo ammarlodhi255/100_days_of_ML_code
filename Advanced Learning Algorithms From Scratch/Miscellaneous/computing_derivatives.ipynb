{
 "cells": [
  {
   "cell_type": "code",
   "execution_count": 7,
   "metadata": {},
   "outputs": [],
   "source": [
    "import sympy\n",
    "import numpy as np"
   ]
  },
  {
   "cell_type": "code",
   "execution_count": 26,
   "metadata": {},
   "outputs": [
    {
     "name": "stdout",
     "output_type": "stream",
     "text": [
      "Derivative with respect to w:\n",
      "Sum((b + w*x[i] - y[i])*x[i], (i, 1, m))/m\n",
      "\n",
      "Derivative with respect to b:\n",
      "Sum(b + w*x[i] - y[i], (i, 1, m))/m\n"
     ]
    }
   ],
   "source": [
    "from sympy import symbols, diff, Sum, Indexed, simplify\n",
    "\n",
    "# Define the variables\n",
    "J, w, m, x, b, y, i = symbols(\"J w m x b y i\")\n",
    "\n",
    "# Define the linear regression model\n",
    "h_theta = w * x + b\n",
    "\n",
    "# Define the cost function\n",
    "cost_function = 1/(2*m) * Sum((h_theta.subs(x, Indexed('x', i)) - Indexed('y', i))**2, (i, 1, m))\n",
    "\n",
    "# Calculate the derivatives with respect to w and b\n",
    "derivative_w = diff(cost_function, w)\n",
    "derivative_b = diff(cost_function, b)\n",
    "\n",
    "# Simplify the expressions\n",
    "derivative_w = simplify(derivative_w)\n",
    "derivative_b = simplify(derivative_b)\n",
    "\n",
    "# Display the derivatives\n",
    "print(\"Derivative with respect to w:\")\n",
    "print(derivative_w)\n",
    "\n",
    "print(\"\\nDerivative with respect to b:\")\n",
    "print(derivative_b)\n"
   ]
  },
  {
   "cell_type": "code",
   "execution_count": null,
   "metadata": {},
   "outputs": [],
   "source": []
  }
 ],
 "metadata": {
  "kernelspec": {
   "display_name": "dev-env",
   "language": "python",
   "name": "python3"
  },
  "language_info": {
   "codemirror_mode": {
    "name": "ipython",
    "version": 3
   },
   "file_extension": ".py",
   "mimetype": "text/x-python",
   "name": "python",
   "nbconvert_exporter": "python",
   "pygments_lexer": "ipython3",
   "version": "3.11.7"
  }
 },
 "nbformat": 4,
 "nbformat_minor": 2
}
