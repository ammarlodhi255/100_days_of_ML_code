{
 "cells": [
  {
   "cell_type": "code",
   "execution_count": 1,
   "metadata": {},
   "outputs": [],
   "source": [
    "import numpy as np "
   ]
  },
  {
   "cell_type": "code",
   "execution_count": 2,
   "metadata": {},
   "outputs": [
    {
     "data": {
      "text/plain": [
       "array([[95, 97, 48, 18],\n",
       "       [23, 78, 95, 63],\n",
       "       [13,  1, 54, 48],\n",
       "       [13, 59, 91, 73],\n",
       "       [24, 58, 89, 11],\n",
       "       [61, 98, 37, 82],\n",
       "       [45, 67, 93, 11],\n",
       "       [67,  0, 60, 98],\n",
       "       [35, 49, 56, 12],\n",
       "       [ 4, 21, 79, 66]])"
      ]
     },
     "execution_count": 2,
     "metadata": {},
     "output_type": "execute_result"
    }
   ],
   "source": [
    "X = np.random.randint(0, 100, (10, 4))\n",
    "X"
   ]
  },
  {
   "cell_type": "code",
   "execution_count": 5,
   "metadata": {},
   "outputs": [
    {
     "data": {
      "text/plain": [
       "array([[0.99635093, 0.74680159, 0.24747198, 0.54020622],\n",
       "       [0.74421901, 0.31656368, 0.16675469, 0.46000984],\n",
       "       [0.92180131, 0.78096638, 0.07763363, 0.7283088 ]])"
      ]
     },
     "execution_count": 5,
     "metadata": {},
     "output_type": "execute_result"
    }
   ],
   "source": [
    "W = np.random.random_sample((3, 4))\n",
    "W"
   ]
  },
  {
   "cell_type": "code",
   "execution_count": 7,
   "metadata": {},
   "outputs": [],
   "source": [
    "b = np.random.random_sample((3,))"
   ]
  },
  {
   "cell_type": "code",
   "execution_count": 9,
   "metadata": {},
   "outputs": [
    {
     "name": "stdout",
     "output_type": "stream",
     "text": [
      "Shape: (10, 3), [[189.53333683 118.39276348 180.83441498]\n",
      " [139.54730275  87.33219848 136.0490363 ]\n",
      " [ 53.83062663  41.77751555  52.5890015 ]\n",
      " [119.80673757  77.80837826 118.9652156 ]\n",
      " [ 96.03206651  56.82410405  83.01365058]\n",
      " [188.25521312 121.01220929 196.03193043]\n",
      " [124.66653829  75.96879501 109.71070991]\n",
      " [135.38191835 105.64979842 138.46654752]\n",
      " [ 92.64434328  57.11854516  84.29116671]\n",
      " [ 75.71001154  53.85986238  74.96251638]]\n"
     ]
    }
   ],
   "source": [
    "forward_pass = np.matmul(X, W.T) + b\n",
    "print(f\"Shape: {forward_pass.shape}, {forward_pass}\")"
   ]
  },
  {
   "cell_type": "code",
   "execution_count": 10,
   "metadata": {},
   "outputs": [
    {
     "name": "stdout",
     "output_type": "stream",
     "text": [
      "[1. 1. 1. 1. 1. 1. 1. 1. 1. 1.]\n"
     ]
    }
   ],
   "source": [
    "W_last = np.random.random_sample((3,))\n",
    "\n",
    "print( 1 / (1 + (np.exp(-(np.matmul(forward_pass, W_last))))))"
   ]
  },
  {
   "cell_type": "code",
   "execution_count": null,
   "metadata": {},
   "outputs": [],
   "source": []
  }
 ],
 "metadata": {
  "kernelspec": {
   "display_name": "dev-env",
   "language": "python",
   "name": "python3"
  },
  "language_info": {
   "codemirror_mode": {
    "name": "ipython",
    "version": 3
   },
   "file_extension": ".py",
   "mimetype": "text/x-python",
   "name": "python",
   "nbconvert_exporter": "python",
   "pygments_lexer": "ipython3",
   "version": "3.11.7"
  }
 },
 "nbformat": 4,
 "nbformat_minor": 2
}
