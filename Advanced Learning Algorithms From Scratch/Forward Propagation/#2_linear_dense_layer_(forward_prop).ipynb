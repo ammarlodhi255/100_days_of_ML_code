{
 "cells": [
  {
   "cell_type": "code",
   "execution_count": 1,
   "metadata": {},
   "outputs": [],
   "source": [
    "import tensorflow as tf\n",
    "import numpy as np\n",
    "from tensorflow.keras.layers import Dense"
   ]
  },
  {
   "cell_type": "code",
   "execution_count": 4,
   "metadata": {},
   "outputs": [],
   "source": [
    "X_train = np.array([1.0, 3.0], dtype='float32') \n",
    "y_train = np.array([300, 500], dtype='float32')\n",
    "\n",
    "# Learned weights (we only want to perform inference and do forward propagation)\n",
    "\n",
    "learned_w = np.array([200])\n",
    "learned_b = np.array([100])"
   ]
  },
  {
   "cell_type": "code",
   "execution_count": 6,
   "metadata": {},
   "outputs": [
    {
     "data": {
      "text/plain": [
       "[]"
      ]
     },
     "execution_count": 6,
     "metadata": {},
     "output_type": "execute_result"
    }
   ],
   "source": [
    "linear_layer = Dense(units=1, activation='linear')\n",
    "linear_layer.get_weights()"
   ]
  },
  {
   "cell_type": "code",
   "execution_count": 11,
   "metadata": {},
   "outputs": [
    {
     "name": "stdout",
     "output_type": "stream",
     "text": [
      "Initialized Weightts: [array([[-0.63824165]], dtype=float32), array([0.], dtype=float32)], Output(a1 from dense layer): [[-0.63824165]], Normal Output: [[-0.63824165]]\n"
     ]
    }
   ],
   "source": [
    "a0 = X_train[0].reshape(1, 1)\n",
    "a1 = linear_layer(a0) \n",
    "normal_output = np.dot(a0, linear_layer.get_weights()[0]) + linear_layer.get_weights()[1]\n",
    "print(f\"Initialized Weightts: {linear_layer.get_weights()}, Output(a1 from dense layer): {a1}, Normal Output: {normal_output}\")"
   ]
  },
  {
   "cell_type": "code",
   "execution_count": 18,
   "metadata": {},
   "outputs": [
    {
     "name": "stdout",
     "output_type": "stream",
     "text": [
      "Prediction on learned weights: [[300.]], Ground truth: 300.0\n"
     ]
    }
   ],
   "source": [
    "# Note that the input and weights have to 2-d\n",
    "\n",
    "linear_layer.set_weights([learned_w[0].reshape(1, 1), learned_b])\n",
    "a1 = linear_layer(a0)\n",
    "print(f\"Prediction on learned weights: {a1}, Ground truth: {y_train[0]}\")"
   ]
  },
  {
   "cell_type": "code",
   "execution_count": null,
   "metadata": {},
   "outputs": [],
   "source": []
  }
 ],
 "metadata": {
  "kernelspec": {
   "display_name": "dev-env",
   "language": "python",
   "name": "python3"
  },
  "language_info": {
   "codemirror_mode": {
    "name": "ipython",
    "version": 3
   },
   "file_extension": ".py",
   "mimetype": "text/x-python",
   "name": "python",
   "nbconvert_exporter": "python",
   "pygments_lexer": "ipython3",
   "version": "3.11.7"
  }
 },
 "nbformat": 4,
 "nbformat_minor": 2
}
