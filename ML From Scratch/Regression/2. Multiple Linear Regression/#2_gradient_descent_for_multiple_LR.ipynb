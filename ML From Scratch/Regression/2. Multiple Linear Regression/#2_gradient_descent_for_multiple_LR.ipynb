{
 "cells": [
  {
   "cell_type": "code",
   "execution_count": 3,
   "metadata": {},
   "outputs": [],
   "source": [
    "import numpy as np \n",
    "import copy, math\n",
    "import matplotlib.pyplot as plt "
   ]
  },
  {
   "cell_type": "code",
   "execution_count": 4,
   "metadata": {},
   "outputs": [],
   "source": [
    "X_train = np.array([[2104, 5, 1, 45], [1416, 3, 2, 40], [852, 2, 1, 35]])\n",
    "y_train = np.array([460, 232, 178])"
   ]
  },
  {
   "cell_type": "code",
   "execution_count": 5,
   "metadata": {},
   "outputs": [
    {
     "name": "stdout",
     "output_type": "stream",
     "text": [
      "X_train.shape: (3, 4)\n",
      "[[2104    5    1   45]\n",
      " [1416    3    2   40]\n",
      " [ 852    2    1   35]]\n",
      "y_train.shape: (3,)\n",
      "[460 232 178]\n"
     ]
    }
   ],
   "source": [
    "print(f\"X_train.shape: {X_train.shape}\")\n",
    "print(X_train)\n",
    "print(f\"y_train.shape: {y_train.shape}\")\n",
    "print(y_train)"
   ]
  },
  {
   "cell_type": "code",
   "execution_count": 6,
   "metadata": {},
   "outputs": [
    {
     "name": "stdout",
     "output_type": "stream",
     "text": [
      "w_init shape: (4,), b_init type: <class 'float'>\n"
     ]
    }
   ],
   "source": [
    "b_init = 785.1811367994083\n",
    "w_init = np.array([ 0.39133535, 18.75376741, -53.36032453, -26.42131618])\n",
    "print(f\"w_init shape: {w_init.shape}, b_init type: {type(b_init)}\")"
   ]
  },
  {
   "cell_type": "code",
   "execution_count": 7,
   "metadata": {},
   "outputs": [],
   "source": [
    "def predict_loop(X, w, b):\n",
    "    '''\n",
    "    Predict loop using linear regression. Loop over individual instance. No vectorization.\n",
    "\n",
    "    Args:\n",
    "        X (ndarray): Shape(m,n) m examples of n vectors.\n",
    "        w (ndarray): Shape(n,) m weights for corresponding feature values.\n",
    "        b (float): model parameter\n",
    "    \n",
    "    Returns: \n",
    "        y_hat (ndarray): Shape (m,) predicted outputs for m examples.\n",
    "    '''\n",
    "    m, n = X.shape\n",
    "\n",
    "    y_hat = np.zeros((m,))\n",
    "\n",
    "    for i in range(m):\n",
    "        for j in range(n):\n",
    "            y_hat[i] = y_hat[i] + (w[j] * X[i, j])\n",
    "    \n",
    "        y_hat[i] += b\n",
    "\n",
    "    return y_hat"
   ]
  },
  {
   "cell_type": "code",
   "execution_count": 10,
   "metadata": {},
   "outputs": [
    {
     "data": {
      "text/plain": [
       "array([459.99999762, 231.99999837, 177.99999899])"
      ]
     },
     "execution_count": 10,
     "metadata": {},
     "output_type": "execute_result"
    }
   ],
   "source": [
    "predict_loop(X_train, w_init, b_init)"
   ]
  },
  {
   "cell_type": "code",
   "execution_count": 11,
   "metadata": {},
   "outputs": [],
   "source": [
    "def predict(X, w, b):\n",
    "    ''' \n",
    "    Predict with vectorization.\n",
    "    Args:\n",
    "        X (ndarray): Shape(m,n) m examples of n vectors.\n",
    "        w (ndarray): Shape(n,) m weights for corresponding feature values.\n",
    "        b (float): model parameter\n",
    "\n",
    "    Returns: \n",
    "        y_hat (ndarray): Shape (m,) predicted outputs for m examples.   \n",
    "    '''\n",
    "\n",
    "    y_hat = np.dot(X, w) + b\n",
    "    return y_hat"
   ]
  },
  {
   "cell_type": "code",
   "execution_count": 12,
   "metadata": {},
   "outputs": [
    {
     "data": {
      "text/plain": [
       "array([459.99999762, 231.99999837, 177.99999899])"
      ]
     },
     "execution_count": 12,
     "metadata": {},
     "output_type": "execute_result"
    }
   ],
   "source": [
    "predict(X_train, w_init, b_init)"
   ]
  },
  {
   "cell_type": "code",
   "execution_count": 15,
   "metadata": {},
   "outputs": [],
   "source": [
    "def compute_cost(X, y, w, b):\n",
    "    ''' \n",
    "    Compute cost for multiple regression with vectorization.\n",
    "    Args:\n",
    "        X (ndarray): Shape(m,n) m examples of n vectors.\n",
    "        y (ndarray): m target values.\n",
    "        w (ndarray): Shape(n,) m weights for corresponding feature values.\n",
    "        b (float): model parameter\n",
    "\n",
    "    Returns: \n",
    "        total_cost (float): Computed cost for m examples based on the given w and b.   \n",
    "    '''\n",
    "    m = X.shape[0]\n",
    "    y_hat = predict(X, w, b)\n",
    "    total_cost = (1/(2*m)) * np.sum((y_hat - y) ** 2)\n",
    "    return total_cost"
   ]
  },
  {
   "cell_type": "code",
   "execution_count": 16,
   "metadata": {},
   "outputs": [
    {
     "name": "stdout",
     "output_type": "stream",
     "text": [
      "Cost: 1.5578903428073909e-12, w: [  0.39133535  18.75376741 -53.36032453 -26.42131618], b: 785.1811367994083\n"
     ]
    }
   ],
   "source": [
    "print(f\"Cost: {compute_cost(X_train, y_train, w_init, b_init)}, w: {w_init}, b: {b_init}\")"
   ]
  },
  {
   "cell_type": "code",
   "execution_count": 19,
   "metadata": {},
   "outputs": [],
   "source": [
    "def compute_gradients(X, y, w, b):\n",
    "    m, n = X.shape\n",
    "    dj_dw = np.zeros((n,))\n",
    "    dj_db = 0.0 \n",
    "\n",
    "    for i in range(n):\n",
    "        dj_dw[i] = (1/m) * np.sum((predict(X, w, b) - y) * X[:, i])\n",
    "\n",
    "    dj_db = (1/m) * np.sum(predict(X, w, b) - y)\n",
    "\n",
    "    return dj_dw, dj_db"
   ]
  },
  {
   "cell_type": "code",
   "execution_count": 20,
   "metadata": {},
   "outputs": [
    {
     "data": {
      "text/plain": [
       "(array([-2.72623569e-03, -6.27197244e-06, -2.21745567e-06, -6.92403362e-05]),\n",
       " -1.6739250744042995e-06)"
      ]
     },
     "execution_count": 20,
     "metadata": {},
     "output_type": "execute_result"
    }
   ],
   "source": [
    "compute_gradients(X_train, y_train, w_init, b_init)"
   ]
  },
  {
   "cell_type": "code",
   "execution_count": null,
   "metadata": {},
   "outputs": [],
   "source": []
  }
 ],
 "metadata": {
  "kernelspec": {
   "display_name": "dev-env",
   "language": "python",
   "name": "python3"
  },
  "language_info": {
   "codemirror_mode": {
    "name": "ipython",
    "version": 3
   },
   "file_extension": ".py",
   "mimetype": "text/x-python",
   "name": "python",
   "nbconvert_exporter": "python",
   "pygments_lexer": "ipython3",
   "version": "3.11.7"
  }
 },
 "nbformat": 4,
 "nbformat_minor": 2
}
