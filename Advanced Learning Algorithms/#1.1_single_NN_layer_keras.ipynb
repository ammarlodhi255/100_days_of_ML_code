{
 "cells": [
  {
   "cell_type": "code",
   "execution_count": 1,
   "metadata": {},
   "outputs": [],
   "source": [
    "import numpy as np \n",
    "from tensorflow.keras.layers import Dense "
   ]
  },
  {
   "cell_type": "code",
   "execution_count": 12,
   "metadata": {},
   "outputs": [
    {
     "data": {
      "text/plain": [
       "[array([[0.001 , 0.0014, 0.0051],\n",
       "        [0.003 , 0.0035, 0.0053]], dtype=float32),\n",
       " array([0.004, 0.001, 0.002], dtype=float32)]"
      ]
     },
     "execution_count": 12,
     "metadata": {},
     "output_type": "execute_result"
    }
   ],
   "source": [
    "X_sample = np.array([[9, 190], [1, 110]])\n",
    "\n",
    "W_1 = np.array([\n",
    "    [0.001, 0.003],\n",
    "    [0.0014, 0.0035],\n",
    "    [0.0051, 0.0053]\n",
    "])\n",
    "\n",
    "\n",
    "B_1 = np.array([0.004, 0.001, 0.002])\n",
    "\n",
    "\n",
    "log_layer = Dense(units=3, activation='sigmoid')\n",
    "log_layer(X_sample)\n",
    "log_layer.set_weights([W_1.T, B_1])\n",
    "log_layer.get_weights()"
   ]
  },
  {
   "cell_type": "code",
   "execution_count": 13,
   "metadata": {},
   "outputs": [
    {
     "data": {
      "text/plain": [
       "<tf.Tensor: shape=(2, 3), dtype=float32, numpy=\n",
       "array([[0.64175737, 0.66342616, 0.7417147 ],\n",
       "       [0.58297545, 0.5956567 , 0.6433881 ]], dtype=float32)>"
      ]
     },
     "execution_count": 13,
     "metadata": {},
     "output_type": "execute_result"
    }
   ],
   "source": [
    "a1 = log_layer(X_sample)\n",
    "a1"
   ]
  },
  {
   "cell_type": "code",
   "execution_count": 17,
   "metadata": {},
   "outputs": [
    {
     "data": {
      "text/plain": [
       "<tf.Tensor: shape=(2, 1), dtype=float32, numpy=\n",
       "array([[0.50280386],\n",
       "       [0.5026892 ]], dtype=float32)>"
      ]
     },
     "execution_count": 17,
     "metadata": {},
     "output_type": "execute_result"
    }
   ],
   "source": [
    "final_layer = Dense(units=1, activation='sigmoid')\n",
    "final_layer(a1)\n",
    "final_layer.set_weights([np.array([0.001, 0.003, 0.002]).reshape(3, 1), np.array([0.0071])])\n",
    "final_layer(a1)"
   ]
  },
  {
   "cell_type": "code",
   "execution_count": null,
   "metadata": {},
   "outputs": [],
   "source": []
  }
 ],
 "metadata": {
  "kernelspec": {
   "display_name": "dev-env",
   "language": "python",
   "name": "python3"
  },
  "language_info": {
   "codemirror_mode": {
    "name": "ipython",
    "version": 3
   },
   "file_extension": ".py",
   "mimetype": "text/x-python",
   "name": "python",
   "nbconvert_exporter": "python",
   "pygments_lexer": "ipython3",
   "version": "3.11.7"
  }
 },
 "nbformat": 4,
 "nbformat_minor": 2
}
